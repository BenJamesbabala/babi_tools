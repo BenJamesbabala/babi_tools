{
 "cells": [
  {
   "cell_type": "code",
   "execution_count": 3,
   "metadata": {
    "collapsed": false
   },
   "outputs": [],
   "source": [
    "from operator import itemgetter\n",
    "from os import path\n",
    "\n",
    "from process_babi import read_task\n",
    "\n",
    "\n",
    "def print_dataset_stats(in_train, in_dev, in_test):\n",
    "    print '#Dialogs:    {} (train), {} (dev), {} (test)'.format(\n",
    "        len(in_train),\n",
    "        len(in_dev),\n",
    "        len(in_test)\n",
    "    )\n",
    "    joint_dataset = in_train + in_dev + in_test\n",
    "    print 'Mean #turns:    {0:.3f}'.format(\n",
    "        sum(map(len, joint_dataset)) / float(len(joint_dataset))\n",
    "    )\n",
    "    system_turns = reduce(\n",
    "        lambda x, y: x + map(itemgetter('system'), y),\n",
    "        joint_dataset,\n",
    "        []\n",
    "    )\n",
    "    user_turns = reduce(\n",
    "        lambda x, y: x + map(itemgetter('user'), y),\n",
    "        joint_dataset,\n",
    "        []\n",
    "    )\n",
    "    print 'Mean system turn length (words):    {0:.3f}'.format(\n",
    "        sum(map(lambda line: len(line.split()), system_turns)) / float(len(system_turns))\n",
    "    )\n",
    "    print 'Mean user turn length (words):    {0:.3f}'.format(\n",
    "        sum(map(lambda line: len(line.split()), user_turns)) / float(len(user_turns))\n",
    "    )"
   ]
  },
  {
   "cell_type": "code",
   "execution_count": 4,
   "metadata": {
    "collapsed": false
   },
   "outputs": [],
   "source": [
    "DATA_FOLDER = 'dialog-bAbI-tasks'\n",
    "task1_train = read_task(path.join(DATA_FOLDER, 'dialog-babi-task1-API-calls-trn.txt'))\n",
    "task1_dev = read_task(path.join(DATA_FOLDER, 'dialog-babi-task1-API-calls-dev.txt'))\n",
    "task1_test = read_task(path.join(DATA_FOLDER, 'dialog-babi-task1-API-calls-tst.txt'))\n",
    "task1_oov_test = read_task(path.join(DATA_FOLDER, 'dialog-babi-task1-API-calls-tst-OOV.txt'))\n",
    "\n",
    "task2_train = read_task(path.join(DATA_FOLDER, 'dialog-babi-task2-API-refine-trn.txt'))\n",
    "task2_dev = read_task(path.join(DATA_FOLDER, 'dialog-babi-task2-API-refine-dev.txt'))\n",
    "task2_test = read_task(path.join(DATA_FOLDER, 'dialog-babi-task2-API-refine-tst.txt'))\n",
    "task2_oov_test = read_task(path.join(DATA_FOLDER, 'dialog-babi-task2-API-refine-tst-OOV.txt'))"
   ]
  },
  {
   "cell_type": "code",
   "execution_count": 5,
   "metadata": {
    "collapsed": false
   },
   "outputs": [
    {
     "name": "stdout",
     "output_type": "stream",
     "text": [
      "Task 1 stats:\n#Dialogs:    1000 (train), 1000 (dev), 2000 (test)\nMean #turns:    5.999\nMean system turn length (words):    6.250\nMean user turn length (words):    3.804\n\n\nTask 2 stats:\n"
     ]
    },
    {
     "name": "stdout",
     "output_type": "stream",
     "text": [
      "#Dialogs:    1000 (train), 1000 (dev), 2000 (test)\nMean #turns:    9.484\nMean system turn length (words):    6.156\nMean user turn length (words):    4.501\n"
     ]
    }
   ],
   "source": [
    "print 'Task 1 stats:'\n",
    "print_dataset_stats(task1_train, task1_dev, task1_test + task1_oov_test)\n",
    "print '\\n'\n",
    "\n",
    "print 'Task 2 stats:'\n",
    "print_dataset_stats(task2_train, task2_dev, task2_test + task2_oov_test)"
   ]
  }
 ],
 "metadata": {
  "kernelspec": {
   "display_name": "Python 2",
   "language": "python",
   "name": "python2"
  },
  "language_info": {
   "codemirror_mode": {
    "name": "ipython",
    "version": 2.0
   },
   "file_extension": ".py",
   "mimetype": "text/x-python",
   "name": "python",
   "nbconvert_exporter": "python",
   "pygments_lexer": "ipython2",
   "version": "2.7.12"
  }
 },
 "nbformat": 4,
 "nbformat_minor": 0
}