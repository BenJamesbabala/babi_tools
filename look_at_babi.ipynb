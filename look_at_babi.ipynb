{
 "cells": [
  {
   "cell_type": "code",
   "execution_count": 39,
   "metadata": {
    "collapsed": false
   },
   "outputs": [],
   "source": [
    "import re\n",
    "from codecs import getreader\n",
    "from operator import itemgetter\n",
    "\n",
    "\n",
    "def read_task(in_file_name):\n",
    "    result = []\n",
    "    with getreader('utf-8')(open(in_file_name)) as task_in:\n",
    "        task_content = task_in.read()\n",
    "    dialogs = [\n",
    "        filter(lambda line: len(line.strip()), dialog.split('\\n'))\n",
    "        for dialog in task_content.split('\\n\\n')\n",
    "    ]\n",
    "    dialogs = filter(len, dialogs)\n",
    "\n",
    "    for dialog in dialogs:\n",
    "        result.append([])\n",
    "        for line in dialog:\n",
    "            line = re.sub('^\\d+\\s', '', line)\n",
    "            user_turn, system_turn = line.split('\\t')\n",
    "            result[-1].append({'user': user_turn, 'system': system_turn})\n",
    "    return result\n",
    "\n",
    "\n",
    "def print_dataset_stats(in_train, in_dev, in_test):\n",
    "    print '#Dialogs:    {} (train), {} (dev), {} (test)'.format(\n",
    "        len(in_train),\n",
    "        len(in_dev),\n",
    "        len(in_test)\n",
    "    )\n",
    "    joint_dataset = in_train + in_dev + in_test\n",
    "    print 'Mean #turns:    {0:.3f}'.format(\n",
    "        sum(map(len, joint_dataset)) / float(len(joint_dataset))\n",
    "    )\n",
    "    system_turns = reduce(\n",
    "        lambda x, y: x + map(itemgetter('system'), y),\n",
    "        joint_dataset,\n",
    "        []\n",
    "    )\n",
    "    user_turns = reduce(\n",
    "        lambda x, y: x + map(itemgetter('user'), y),\n",
    "        joint_dataset,\n",
    "        []\n",
    "    )\n",
    "    print 'Mean system turn length (words):    {0:.3f}'.format(\n",
    "        sum(map(lambda line: len(line.split()), system_turns)) / float(len(system_turns))\n",
    "    )\n",
    "    print 'Mean user turn length (words):    {0:.3f}'.format(\n",
    "        sum(map(lambda line: len(line.split()), user_turns)) / float(len(user_turns))\n",
    "    )"
   ]
  },
  {
   "cell_type": "code",
   "execution_count": 40,
   "metadata": {
    "collapsed": false
   },
   "outputs": [],
   "source": [
    "task1_train = read_task('dialog-babi-task1-API-calls-trn.txt')\n",
    "task1_dev = read_task('dialog-babi-task1-API-calls-dev.txt')\n",
    "task1_test = read_task('dialog-babi-task1-API-calls-tst.txt')\n",
    "task1_oov_test = read_task('dialog-babi-task1-API-calls-tst-OOV.txt')\n",
    "\n",
    "task2_train = read_task('dialog-babi-task2-API-refine-trn.txt')\n",
    "task2_dev = read_task('dialog-babi-task2-API-refine-dev.txt')\n",
    "task2_test = read_task('dialog-babi-task2-API-refine-tst.txt')\n",
    "task2_oov_test = read_task('dialog-babi-task2-API-refine-tst-OOV.txt')"
   ]
  },
  {
   "cell_type": "code",
   "execution_count": 41,
   "metadata": {
    "collapsed": false
   },
   "outputs": [
    {
     "name": "stdout",
     "output_type": "stream",
     "text": [
      "Task 1 stats:\n",
      "#Dialogs:    1000 (train), 1000 (dev), 2000 (test)\n",
      "Mean #turns:    5.999\n",
      "Mean system turn length (words):    6.250\n",
      "Mean user turn length (words):    3.804\n",
      "\n",
      "\n",
      "Task 2 stats:\n",
      "#Dialogs:    1000 (train), 1000 (dev), 2000 (test)\n",
      "Mean #turns:    9.484\n",
      "Mean system turn length (words):    6.156\n",
      "Mean user turn length (words):    4.501\n"
     ]
    }
   ],
   "source": [
    "print 'Task 1 stats:'\n",
    "print_dataset_stats(task1_train, task1_dev, task1_test + task1_oov_test)\n",
    "print '\\n'\n",
    "\n",
    "print 'Task 2 stats:'\n",
    "print_dataset_stats(task2_train, task2_dev, task2_test + task2_oov_test)"
   ]
  }
 ],
 "metadata": {
  "kernelspec": {
   "display_name": "Python 2",
   "language": "python",
   "name": "python2"
  },
  "language_info": {
   "codemirror_mode": {
    "name": "ipython",
    "version": 2
   },
   "file_extension": ".py",
   "mimetype": "text/x-python",
   "name": "python",
   "nbconvert_exporter": "python",
   "pygments_lexer": "ipython2",
   "version": "2.7.12"
  }
 },
 "nbformat": 4,
 "nbformat_minor": 1
}
